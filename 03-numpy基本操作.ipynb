{
 "cells": [
  {
   "cell_type": "code",
   "execution_count": 1,
   "metadata": {},
   "outputs": [],
   "source": [
    "import numpy as np"
   ]
  },
  {
   "cell_type": "markdown",
   "metadata": {},
   "source": [
    "# 数组与标量的运算"
   ]
  },
  {
   "cell_type": "code",
   "execution_count": 5,
   "metadata": {},
   "outputs": [
    {
     "name": "stdout",
     "output_type": "stream",
     "text": [
      "[[3 1 3]\n",
      " [3 3 2]\n",
      " [3 3 1]]\n"
     ]
    }
   ],
   "source": [
    "arr1 = np.random.randint(1,4,(3,3))\n",
    "print(arr1)"
   ]
  },
  {
   "cell_type": "code",
   "execution_count": 6,
   "metadata": {},
   "outputs": [
    {
     "name": "stdout",
     "output_type": "stream",
     "text": [
      "[[5 3 5]\n",
      " [5 5 4]\n",
      " [5 5 3]]\n"
     ]
    }
   ],
   "source": [
    "print(arr1+2)"
   ]
  },
  {
   "cell_type": "code",
   "execution_count": 7,
   "metadata": {},
   "outputs": [
    {
     "name": "stdout",
     "output_type": "stream",
     "text": [
      "[[1.5 0.5 1.5]\n",
      " [1.5 1.5 1. ]\n",
      " [1.5 1.5 0.5]]\n"
     ]
    }
   ],
   "source": [
    "print(arr1/2)"
   ]
  },
  {
   "cell_type": "code",
   "execution_count": 9,
   "metadata": {},
   "outputs": [
    {
     "name": "stdout",
     "output_type": "stream",
     "text": [
      "[[3 1 2]\n",
      " [3 3 1]\n",
      " [3 3 2]]\n"
     ]
    }
   ],
   "source": [
    "arr2 = np.random.randint(1,4,(3,3))\n",
    "print(arr2)"
   ]
  },
  {
   "cell_type": "code",
   "execution_count": 10,
   "metadata": {},
   "outputs": [
    {
     "name": "stdout",
     "output_type": "stream",
     "text": [
      "[[1.  1.  1.5]\n",
      " [1.  1.  2. ]\n",
      " [1.  1.  0.5]]\n"
     ]
    }
   ],
   "source": [
    "print(arr1/arr2)"
   ]
  },
  {
   "cell_type": "code",
   "execution_count": 11,
   "metadata": {},
   "outputs": [
    {
     "name": "stdout",
     "output_type": "stream",
     "text": [
      "[[9 1 6]\n",
      " [9 9 2]\n",
      " [9 9 2]]\n"
     ]
    }
   ],
   "source": [
    "print(arr1*arr2)"
   ]
  },
  {
   "cell_type": "code",
   "execution_count": 13,
   "metadata": {},
   "outputs": [
    {
     "name": "stdout",
     "output_type": "stream",
     "text": [
      "[[ 0  0  1]\n",
      " [ 0  0  1]\n",
      " [ 0  0 -1]]\n"
     ]
    }
   ],
   "source": [
    "print(arr1-arr2)"
   ]
  },
  {
   "cell_type": "code",
   "execution_count": 14,
   "metadata": {},
   "outputs": [
    {
     "name": "stdout",
     "output_type": "stream",
     "text": [
      "[[21 15 13]\n",
      " [24 18 13]\n",
      " [21 15 11]]\n"
     ]
    }
   ],
   "source": [
    "print(np.dot(arr1,arr2))"
   ]
  },
  {
   "cell_type": "code",
   "execution_count": 17,
   "metadata": {},
   "outputs": [
    {
     "name": "stdout",
     "output_type": "stream",
     "text": [
      "[[2 4]\n",
      " [1 3]\n",
      " [3 3]]\n",
      "[[2 1 4 1]\n",
      " [1 1 3 2]]\n"
     ]
    }
   ],
   "source": [
    "arr3 = np.random.randint(1,5,(3,2))\n",
    "arr4 = np.random.randint(1,5,(2,4))\n",
    "print(arr3)\n",
    "print(arr4)"
   ]
  },
  {
   "cell_type": "code",
   "execution_count": 18,
   "metadata": {},
   "outputs": [
    {
     "name": "stdout",
     "output_type": "stream",
     "text": [
      "[[ 8  6 20 10]\n",
      " [ 5  4 13  7]\n",
      " [ 9  6 21  9]]\n"
     ]
    }
   ],
   "source": [
    "print(np.dot(arr3,arr4))"
   ]
  },
  {
   "cell_type": "markdown",
   "metadata": {},
   "source": [
    "# 索引和切片"
   ]
  },
  {
   "cell_type": "raw",
   "metadata": {},
   "source": []
  },
  {
   "cell_type": "code",
   "execution_count": 24,
   "metadata": {},
   "outputs": [
    {
     "name": "stdout",
     "output_type": "stream",
     "text": [
      "[[[1 4 3 1]\n",
      "  [4 2 4 4]\n",
      "  [4 1 4 4]]\n",
      "\n",
      " [[3 2 3 2]\n",
      "  [4 2 2 1]\n",
      "  [2 2 4 1]]]\n"
     ]
    }
   ],
   "source": [
    "arr = np.random.randint(1,5,(2,3,4))\n",
    "print(arr)"
   ]
  },
  {
   "cell_type": "code",
   "execution_count": 33,
   "metadata": {},
   "outputs": [
    {
     "name": "stdout",
     "output_type": "stream",
     "text": [
      "4\n",
      "[[[1 4 3 1]\n",
      "  [4 2 4 4]\n",
      "  [4 1 4 4]]]\n"
     ]
    }
   ],
   "source": [
    "print(arr[0,0,1])"
   ]
  },
  {
   "cell_type": "code",
   "execution_count": 26,
   "metadata": {},
   "outputs": [
    {
     "name": "stdout",
     "output_type": "stream",
     "text": [
      "[[4 2 1]\n",
      " [2 2 2]]\n"
     ]
    }
   ],
   "source": [
    "print(arr[:,:,1])"
   ]
  },
  {
   "cell_type": "code",
   "execution_count": 27,
   "metadata": {},
   "outputs": [
    {
     "name": "stdout",
     "output_type": "stream",
     "text": [
      "[2 2 2]\n"
     ]
    }
   ],
   "source": [
    "print(arr[1,:,1])"
   ]
  },
  {
   "cell_type": "code",
   "execution_count": 28,
   "metadata": {},
   "outputs": [
    {
     "name": "stdout",
     "output_type": "stream",
     "text": [
      "[[[4]\n",
      "  [2]\n",
      "  [1]]\n",
      "\n",
      " [[2]\n",
      "  [2]\n",
      "  [2]]]\n"
     ]
    }
   ],
   "source": [
    "print(arr[:,:,1:3:2])"
   ]
  },
  {
   "cell_type": "markdown",
   "metadata": {},
   "source": [
    "# 花式索引"
   ]
  },
  {
   "cell_type": "code",
   "execution_count": 34,
   "metadata": {},
   "outputs": [
    {
     "data": {
      "text/plain": [
       "array([[5, 6, 4, 3],\n",
       "       [6, 3, 2, 3],\n",
       "       [1, 7, 3, 5],\n",
       "       [3, 2, 2, 1],\n",
       "       [3, 4, 4, 2],\n",
       "       [5, 5, 1, 2],\n",
       "       [8, 2, 1, 5],\n",
       "       [8, 2, 1, 2]])"
      ]
     },
     "execution_count": 34,
     "metadata": {},
     "output_type": "execute_result"
    }
   ],
   "source": [
    "arr = np.random.randint(1,9,(8,4))\n",
    "arr"
   ]
  },
  {
   "cell_type": "code",
   "execution_count": 35,
   "metadata": {},
   "outputs": [
    {
     "name": "stdout",
     "output_type": "stream",
     "text": [
      "[[5 6 4 3]\n",
      " [3 2 2 1]\n",
      " [5 5 1 2]]\n"
     ]
    }
   ],
   "source": [
    "#取0 ，3， 5行数据\n",
    "print(arr[[0,3,5]])"
   ]
  },
  {
   "cell_type": "code",
   "execution_count": 36,
   "metadata": {},
   "outputs": [
    {
     "name": "stdout",
     "output_type": "stream",
     "text": [
      "[5 2 1]\n"
     ]
    }
   ],
   "source": [
    "#取00,31,52的数据\n",
    "print(arr[[0,3,5],[0,1,2]])"
   ]
  },
  {
   "cell_type": "code",
   "execution_count": 41,
   "metadata": {},
   "outputs": [
    {
     "name": "stdout",
     "output_type": "stream",
     "text": [
      "[[5 3 6]\n",
      " [3 1 2]\n",
      " [5 2 5]]\n"
     ]
    }
   ],
   "source": [
    "#希望取整行数据，如0行的0，3，1数据，3行的0，3，1数据，5行的0，3，1数据，使用索引器获取\n",
    "print(arr[np.ix_([0,3,5],[0,3,1])])"
   ]
  },
  {
   "cell_type": "markdown",
   "metadata": {},
   "source": [
    "# 布尔索引类型"
   ]
  },
  {
   "cell_type": "code",
   "execution_count": 42,
   "metadata": {},
   "outputs": [
    {
     "name": "stdout",
     "output_type": "stream",
     "text": [
      "[[0.21030725 0.19240901 0.40995925 0.20900922 0.27536266]\n",
      " [0.25352411 0.7466909  0.24908378 0.96841603 0.53636055]\n",
      " [0.46174334 0.70100225 0.70464069 0.46888059 0.96711023]]\n"
     ]
    }
   ],
   "source": [
    "arr = np.random.random((3,5))\n",
    "print(arr)"
   ]
  },
  {
   "cell_type": "code",
   "execution_count": 47,
   "metadata": {},
   "outputs": [
    {
     "data": {
      "text/plain": [
       "array([[ True,  True,  True,  True,  True],\n",
       "       [ True, False,  True, False, False],\n",
       "       [ True, False, False,  True, False]])"
      ]
     },
     "execution_count": 47,
     "metadata": {},
     "output_type": "execute_result"
    }
   ],
   "source": [
    "arr2 = arr<0.5\n",
    "arr2"
   ]
  },
  {
   "cell_type": "code",
   "execution_count": 59,
   "metadata": {},
   "outputs": [],
   "source": [
    "name = np.array(['joe','tom','jake'])\n",
    "score = np.array([\n",
    "    [70,80,90],\n",
    "    [78,98,87],\n",
    "    [88,72,94],]\n",
    ")\n",
    "classes = np.array(['语文','数学','英语'])"
   ]
  },
  {
   "cell_type": "code",
   "execution_count": 61,
   "metadata": {},
   "outputs": [
    {
     "name": "stdout",
     "output_type": "stream",
     "text": [
      "[ True False False]\n",
      "[[70 80 90]]\n",
      "[70 80 90]\n",
      "tom的数学成绩为： [98]\n"
     ]
    }
   ],
   "source": [
    "name2 = name=='joe'\n",
    "print(name2)\n",
    "A = score[name=='joe']\n",
    "B = score[name=='joe'].reshape((-1,))\n",
    "print(A)\n",
    "print(B)\n",
    "print('tom的数学成绩为：',score[name=='tom'].reshape((-1,))[classes=='数学'])"
   ]
  },
  {
   "cell_type": "code",
   "execution_count": null,
   "metadata": {},
   "outputs": [],
   "source": []
  }
 ],
 "metadata": {
  "kernelspec": {
   "display_name": "Python 3",
   "language": "python",
   "name": "python3"
  },
  "language_info": {
   "codemirror_mode": {
    "name": "ipython",
    "version": 3
   },
   "file_extension": ".py",
   "mimetype": "text/x-python",
   "name": "python",
   "nbconvert_exporter": "python",
   "pygments_lexer": "ipython3",
   "version": "3.7.3"
  }
 },
 "nbformat": 4,
 "nbformat_minor": 2
}
